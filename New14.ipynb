{
 "cells": [
  {
   "cell_type": "code",
   "execution_count": 25,
   "id": "e544e536-af40-44d1-b173-3a0ab2e6c6c9",
   "metadata": {},
   "outputs": [
    {
     "name": "stdin",
     "output_type": "stream",
     "text": [
      "Enter the total purchase amount: 101\n"
     ]
    },
    {
     "name": "stdout",
     "output_type": "stream",
     "text": [
      "the discounted price is 90.9\n",
      "the discounted price is 95.95\n"
     ]
    }
   ],
   "source": [
    "a=int(input(\"Enter the total purchase amount:\"))\n",
    "if (a>100):\n",
    "    print(\"the discounted price is\", a-(a*0.10))\n",
    "    \n",
    "    if (50<=100):\n",
    "        print(\"the discounted price is\", a-(a*0.05))\n",
    "else:\n",
    "    print(\"No Discount\")\n",
    "    \n",
    "    "
   ]
  },
  {
   "cell_type": "code",
   "execution_count": 24,
   "id": "81f515b3-387a-4abf-bb93-a4e9099f8b08",
   "metadata": {},
   "outputs": [
    {
     "name": "stdin",
     "output_type": "stream",
     "text": [
      "Enter the age: 61\n"
     ]
    },
    {
     "name": "stdout",
     "output_type": "stream",
     "text": [
      "you have to pay 7$\n"
     ]
    }
   ],
   "source": [
    "x=int(input(\"Enter the age:\"))\n",
    "if(x<12 and x>5):\n",
    "    print(\"You have to pay 5$\")\n",
    "elif( x>12 and x<60):\n",
    "    print(\"you have to pay 10$\")\n",
    "else:\n",
    "    print(\"you have to pay 7$\")\n",
    "    "
   ]
  },
  {
   "cell_type": "code",
   "execution_count": null,
   "id": "41c5fc2b-602b-4741-8265-7bde527d75ab",
   "metadata": {},
   "outputs": [],
   "source": []
  }
 ],
 "metadata": {
  "kernelspec": {
   "display_name": "Python 3 (ipykernel)",
   "language": "python",
   "name": "python3"
  },
  "language_info": {
   "codemirror_mode": {
    "name": "ipython",
    "version": 3
   },
   "file_extension": ".py",
   "mimetype": "text/x-python",
   "name": "python",
   "nbconvert_exporter": "python",
   "pygments_lexer": "ipython3",
   "version": "3.12.4"
  }
 },
 "nbformat": 4,
 "nbformat_minor": 5
}
